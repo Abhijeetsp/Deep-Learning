{
 "cells": [
  {
   "cell_type": "code",
   "execution_count": 12,
   "metadata": {},
   "outputs": [
    {
     "name": "stdout",
     "output_type": "stream",
     "text": [
      "Random  weights: \n",
      "[[4.17022005e-01]\n",
      " [7.20324493e-01]\n",
      " [1.14374817e-04]]\n",
      "New weights after training: \n",
      "[[ 4.61981837]\n",
      " [-0.22135273]\n",
      " [-2.08170443]]\n",
      "Considering new situation [1, 0, 0]  \n",
      "[0.99024158]\n"
     ]
    }
   ],
   "source": [
    "from numpy import exp, array, random, dot\n",
    "\n",
    "class NeuralNetwork():\n",
    "    \n",
    "    def __init__(self):      \n",
    "        random.seed(1)\n",
    "        self.W1 = random.random((3, 1)) \n",
    "        \n",
    "    def __sigmoid(self, x):\n",
    "        return 1 / (1 + exp(-x))\n",
    " \n",
    "    def __sigmoid_derivative(self, x):\n",
    "        return x * (1 - x)\n",
    "    \n",
    "    def train(self, X, Y, iterations):\n",
    "        ## cost=0                                                                    ## line 1\n",
    "        for iteration in range(iterations):  \n",
    "            output = self.propagate(X)\n",
    "            error = Y - output\n",
    "            adjustment = dot(X.T, error * self.__sigmoid_derivative(output))\n",
    "            self.W1 += adjustment\n",
    "        ##    cost=cost+1                                                           ## line 2\n",
    "        ##    if (cost%10==0):                                                      ## line 3\n",
    "        ##        print(str(self.W1))                                               ## line 4 these lines are not required just\n",
    "    def propagate(self, inputs):                                                    ## for understanding purpose, remove # to see\n",
    "        return self.__sigmoid(dot(inputs, self.W1))                                 ## the training of weight matrix\n",
    "\n",
    "\n",
    "if __name__ == \"__main__\":\n",
    "    neural_network = NeuralNetwork()\n",
    "    print (\"Random  weights: \")\n",
    "    print (str(neural_network.W1))\n",
    "    X = array([[0, 0, 1], [1, 1, 1], [1, 0, 1], [0, 1, 1]])\n",
    "    Y = array([[0, 1, 1, 0]]).T\n",
    "    neural_network.train(X, Y, 100)\n",
    "\n",
    "    print (\"New weights after training: \")\n",
    "    print (str(neural_network.W1))\n",
    "    print (\"Considering new situation [1, 0, 0]  \")\n",
    "    print (str(neural_network.propagate(array([1, 0, 0]))))"
   ]
  },
  {
   "cell_type": "code",
   "execution_count": null,
   "metadata": {},
   "outputs": [],
   "source": []
  },
  {
   "cell_type": "code",
   "execution_count": null,
   "metadata": {},
   "outputs": [],
   "source": []
  }
 ],
 "metadata": {
  "kernelspec": {
   "display_name": "Python 3",
   "language": "python",
   "name": "python3"
  },
  "language_info": {
   "codemirror_mode": {
    "name": "ipython",
    "version": 3
   },
   "file_extension": ".py",
   "mimetype": "text/x-python",
   "name": "python",
   "nbconvert_exporter": "python",
   "pygments_lexer": "ipython3",
   "version": "3.6.5"
  }
 },
 "nbformat": 4,
 "nbformat_minor": 2
}
